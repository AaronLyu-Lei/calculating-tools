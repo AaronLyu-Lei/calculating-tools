{
 "cells": [
  {
   "cell_type": "code",
   "execution_count": 7,
   "metadata": {},
   "outputs": [
    {
     "data": {
      "text/html": [
       "<div>\n",
       "<style scoped>\n",
       "    .dataframe tbody tr th:only-of-type {\n",
       "        vertical-align: middle;\n",
       "    }\n",
       "\n",
       "    .dataframe tbody tr th {\n",
       "        vertical-align: top;\n",
       "    }\n",
       "\n",
       "    .dataframe thead th {\n",
       "        text-align: right;\n",
       "    }\n",
       "</style>\n",
       "<table border=\"1\" class=\"dataframe\">\n",
       "  <thead>\n",
       "    <tr style=\"text-align: right;\">\n",
       "      <th></th>\n",
       "      <th>0</th>\n",
       "      <th>1</th>\n",
       "      <th>2</th>\n",
       "      <th>3</th>\n",
       "      <th>4</th>\n",
       "      <th>5</th>\n",
       "    </tr>\n",
       "  </thead>\n",
       "  <tbody>\n",
       "    <tr>\n",
       "      <td>0</td>\n",
       "      <td>Wine</td>\n",
       "      <td>Orange</td>\n",
       "      <td>Coca</td>\n",
       "      <td>Bread</td>\n",
       "      <td>Milk</td>\n",
       "      <td>NaN</td>\n",
       "    </tr>\n",
       "    <tr>\n",
       "      <td>1</td>\n",
       "      <td>Orange</td>\n",
       "      <td>Nuts</td>\n",
       "      <td>Coca</td>\n",
       "      <td>Bread</td>\n",
       "      <td>Yoghurt</td>\n",
       "      <td>Pizza</td>\n",
       "    </tr>\n",
       "    <tr>\n",
       "      <td>2</td>\n",
       "      <td>Apple</td>\n",
       "      <td>Orange</td>\n",
       "      <td>Nuts</td>\n",
       "      <td>Bread</td>\n",
       "      <td>Yoghurt</td>\n",
       "      <td>NaN</td>\n",
       "    </tr>\n",
       "    <tr>\n",
       "      <td>3</td>\n",
       "      <td>Milk</td>\n",
       "      <td>Pizza</td>\n",
       "      <td>Wine</td>\n",
       "      <td>Coca</td>\n",
       "      <td>NaN</td>\n",
       "      <td>NaN</td>\n",
       "    </tr>\n",
       "    <tr>\n",
       "      <td>4</td>\n",
       "      <td>Wine</td>\n",
       "      <td>Orange</td>\n",
       "      <td>Coca</td>\n",
       "      <td>Bread</td>\n",
       "      <td>NaN</td>\n",
       "      <td>NaN</td>\n",
       "    </tr>\n",
       "    <tr>\n",
       "      <td>5</td>\n",
       "      <td>Apple</td>\n",
       "      <td>Milk</td>\n",
       "      <td>Coca</td>\n",
       "      <td>Bread</td>\n",
       "      <td>NaN</td>\n",
       "      <td>NaN</td>\n",
       "    </tr>\n",
       "    <tr>\n",
       "      <td>6</td>\n",
       "      <td>Apple</td>\n",
       "      <td>Rice</td>\n",
       "      <td>Bread</td>\n",
       "      <td>Coca</td>\n",
       "      <td>Yoghurt</td>\n",
       "      <td>NaN</td>\n",
       "    </tr>\n",
       "    <tr>\n",
       "      <td>7</td>\n",
       "      <td>Rice</td>\n",
       "      <td>Milk</td>\n",
       "      <td>Apple</td>\n",
       "      <td>Bread</td>\n",
       "      <td>Wine</td>\n",
       "      <td>Pizza</td>\n",
       "    </tr>\n",
       "    <tr>\n",
       "      <td>8</td>\n",
       "      <td>Nuts</td>\n",
       "      <td>Coca</td>\n",
       "      <td>Bread</td>\n",
       "      <td>Yoghurt</td>\n",
       "      <td>NaN</td>\n",
       "      <td>NaN</td>\n",
       "    </tr>\n",
       "    <tr>\n",
       "      <td>9</td>\n",
       "      <td>Rice</td>\n",
       "      <td>Coca</td>\n",
       "      <td>Nuts</td>\n",
       "      <td>Bread</td>\n",
       "      <td>NaN</td>\n",
       "      <td>NaN</td>\n",
       "    </tr>\n",
       "  </tbody>\n",
       "</table>\n",
       "</div>"
      ],
      "text/plain": [
       "        0        1       2         3         4       5\n",
       "0    Wine   Orange    Coca     Bread      Milk     NaN\n",
       "1  Orange     Nuts    Coca     Bread   Yoghurt   Pizza\n",
       "2   Apple   Orange    Nuts     Bread   Yoghurt     NaN\n",
       "3    Milk    Pizza    Wine      Coca       NaN     NaN\n",
       "4    Wine   Orange    Coca     Bread       NaN     NaN\n",
       "5   Apple     Milk    Coca     Bread       NaN     NaN\n",
       "6   Apple     Rice   Bread      Coca   Yoghurt     NaN\n",
       "7    Rice     Milk   Apple     Bread      Wine   Pizza\n",
       "8    Nuts     Coca   Bread   Yoghurt       NaN     NaN\n",
       "9    Rice     Coca    Nuts     Bread       NaN     NaN"
      ]
     },
     "execution_count": 7,
     "metadata": {},
     "output_type": "execute_result"
    }
   ],
   "source": [
    "import numpy as np\n",
    "import matplotlib.pyplot as plt\n",
    "import pandas as pd\n",
    "from apyori import apriori\n",
    "df = pd.read_csv('data_apriori.csv',header=None)\n",
    "df"
   ]
  },
  {
   "cell_type": "code",
   "execution_count": 8,
   "metadata": {},
   "outputs": [
    {
     "name": "stdout",
     "output_type": "stream",
     "text": [
      "[['Wine', ' Orange', ' Coca', ' Bread', ' Milk'], ['Orange', ' Nuts', ' Coca', ' Bread', ' Yoghurt', ' Pizza'], ['Apple', ' Orange', ' Nuts', ' Bread', ' Yoghurt'], ['Milk', ' Pizza', ' Wine', ' Coca'], ['Wine', ' Orange', ' Coca', ' Bread'], ['Apple', ' Milk', ' Coca', ' Bread'], ['Apple', ' Rice', ' Bread', ' Coca', ' Yoghurt'], ['Rice', ' Milk', ' Apple', ' Bread', ' Wine', ' Pizza'], ['Nuts', ' Coca', ' Bread', ' Yoghurt'], ['Rice', ' Coca', ' Nuts', ' Bread']]\n"
     ]
    }
   ],
   "source": [
    "record = df.stack().groupby(level=0).apply(list).tolist()\n",
    "print(record)"
   ]
  },
  {
   "cell_type": "code",
   "execution_count": 17,
   "metadata": {},
   "outputs": [],
   "source": [
    "#set your minimum support\n",
    "association_rules = apriori(record, min_support=0.3)\n",
    "association_results = list(association_rules)"
   ]
  },
  {
   "cell_type": "code",
   "execution_count": 18,
   "metadata": {},
   "outputs": [
    {
     "name": "stdout",
     "output_type": "stream",
     "text": [
      "frequent 1-item [' Bread']--support 90.0%\n",
      "frequent 1-item [' Coca']--support 80.0%\n",
      "frequent 1-item [' Milk']--support 30.0%\n",
      "frequent 1-item [' Nuts']--support 30.0%\n",
      "frequent 1-item [' Orange']--support 30.0%\n",
      "frequent 1-item [' Pizza']--support 30.0%\n",
      "frequent 1-item [' Yoghurt']--support 40.0%\n",
      "frequent 1-item ['Apple']--support 30.0%\n",
      "frequent 2-item [' Coca', ' Bread']--support 70.0%\n",
      "frequent 2-item [' Milk', ' Bread']--support 30.0%\n",
      "frequent 2-item [' Nuts', ' Bread']--support 30.0%\n",
      "frequent 2-item [' Orange', ' Bread']--support 30.0%\n",
      "frequent 2-item [' Yoghurt', ' Bread']--support 40.0%\n",
      "frequent 2-item ['Apple', ' Bread']--support 30.0%\n",
      "frequent 2-item [' Coca', ' Yoghurt']--support 30.0%\n",
      "frequent 3-item [' Coca', ' Yoghurt', ' Bread']--support 30.0%\n"
     ]
    }
   ],
   "source": [
    "#find all frequent items\n",
    "i = 1\n",
    "while True:\n",
    "    items_collection = []\n",
    "    for item in association_results:\n",
    "        if len(item[0])==i:\n",
    "            items_collection.append(item)\n",
    "        \n",
    "    items = []   \n",
    "    for item in items_collection:\n",
    "        pair = item[0] \n",
    "        token = [x for x in pair]\n",
    "        items.append(token)\n",
    "        support = round(item[1],4)\n",
    "        print(f\"frequent {i}-item {token}--support {support*100}%\")\n",
    "    i += 1\n",
    "    if items == []:\n",
    "        break"
   ]
  },
  {
   "cell_type": "code",
   "execution_count": 19,
   "metadata": {},
   "outputs": [],
   "source": [
    "#set your confidence\n",
    "association_rules = apriori(record, min_support=0.3, min_confidence=0.4)\n",
    "association_results = list(association_rules)"
   ]
  },
  {
   "cell_type": "code",
   "execution_count": 20,
   "metadata": {},
   "outputs": [
    {
     "name": "stdout",
     "output_type": "stream",
     "text": [
      "Rule1: [' Bread']==>[' Coca']: S=70.0% C=70.0%\n",
      "Rule2: [' Coca']==>[' Bread']: S=70.0% C=70.0%\n",
      "Rule3: [' Milk']==>[' Bread']: S=30.0% C=100.0%\n",
      "Rule4: [' Nuts']==>[' Bread']: S=30.0% C=100.0%\n",
      "Rule5: [' Orange']==>[' Bread']: S=30.0% C=100.0%\n",
      "Rule6: [' Bread']==>[' Yoghurt']: S=40.0% C=40.0%\n",
      "Rule7: [' Yoghurt']==>[' Bread']: S=40.0% C=40.0%\n",
      "Rule8: ['Apple']==>[' Bread']: S=30.0% C=100.0%\n",
      "Rule9: [' Yoghurt']==>[' Coca']: S=30.0% C=75.0%\n",
      "Rule10: [' Yoghurt']==>[' Coca', ' Bread']: S=30.0% C=75.0%\n",
      "Rule11: [' Coca', ' Bread']==>[' Yoghurt']: S=30.0% C=75.0%\n",
      "Rule12: [' Yoghurt', ' Bread']==>[' Coca']: S=30.0% C=75.0%\n",
      "Rule13: [' Coca', ' Yoghurt']==>[' Bread']: S=30.0% C=75.0%\n"
     ]
    }
   ],
   "source": [
    "#find all associated rules according to defined support and confidence\n",
    "i = 2\n",
    "j = 1\n",
    "while True:\n",
    "    items_collection = []\n",
    "    for item in association_results:\n",
    "        if len(item[0])==i:\n",
    "            items_collection.append(item)\n",
    "    items = []\n",
    "    for item in items_collection:\n",
    "        pair = item[0]\n",
    "        token = [x for x in pair]\n",
    "        items.append(token)\n",
    "        for a in item[2]:\n",
    "            pair1 = a[0]\n",
    "            pair2 = a[1]\n",
    "            token1 = [y for y in pair1]\n",
    "            token2 = [z for z in pair2]\n",
    "            support = round(item[1],4)\n",
    "            confidence = round(item[2][0][2],4)\n",
    "            if token1 != []:\n",
    "                print(f\"Rule{j}: {token1}==>{token2}: S={support*100}% C={confidence*100}%\")\n",
    "                j += 1\n",
    "            else:\n",
    "                j += 0\n",
    "    i += 1\n",
    "    if items == []:\n",
    "        break"
   ]
  },
  {
   "cell_type": "code",
   "execution_count": null,
   "metadata": {},
   "outputs": [],
   "source": []
  }
 ],
 "metadata": {
  "kernelspec": {
   "display_name": "Python 3",
   "language": "python",
   "name": "python3"
  },
  "language_info": {
   "codemirror_mode": {
    "name": "ipython",
    "version": 3
   },
   "file_extension": ".py",
   "mimetype": "text/x-python",
   "name": "python",
   "nbconvert_exporter": "python",
   "pygments_lexer": "ipython3",
   "version": "3.7.4"
  }
 },
 "nbformat": 4,
 "nbformat_minor": 2
}
