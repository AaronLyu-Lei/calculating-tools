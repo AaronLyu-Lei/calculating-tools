{
 "cells": [
  {
   "cell_type": "code",
   "execution_count": 1,
   "metadata": {},
   "outputs": [],
   "source": [
    "import math"
   ]
  },
  {
   "cell_type": "code",
   "execution_count": 2,
   "metadata": {},
   "outputs": [],
   "source": [
    "c=[3,3]"
   ]
  },
  {
   "cell_type": "code",
   "execution_count": 3,
   "metadata": {},
   "outputs": [],
   "source": [
    "def entropy(cluster):\n",
    "    P = 0\n",
    "    for item in cluster:\n",
    "        s = sum(cluster)\n",
    "        try:\n",
    "            p = -(item/s)*math.log(item/s,2)\n",
    "        except:\n",
    "            p = 0\n",
    "        P += p\n",
    "    return round(P,4)"
   ]
  },
  {
   "cell_type": "code",
   "execution_count": 4,
   "metadata": {},
   "outputs": [
    {
     "data": {
      "text/plain": [
       "1.0"
      ]
     },
     "execution_count": 4,
     "metadata": {},
     "output_type": "execute_result"
    }
   ],
   "source": [
    "entropy(c)"
   ]
  },
  {
   "cell_type": "code",
   "execution_count": 5,
   "metadata": {},
   "outputs": [],
   "source": [
    "def entropy(cluster):\n",
    "    P = 0\n",
    "    for item in cluster:\n",
    "        s = sum(cluster)\n",
    "        try:\n",
    "            p = -(item/s)*math.log(item/s,2)\n",
    "        except:\n",
    "            p = 0\n",
    "        P += p\n",
    "    return round(P,4)\n",
    "\n",
    "def weight(cluster):\n",
    "    s = 0\n",
    "    wl = []\n",
    "    for item in cluster:\n",
    "        s += sum(item)\n",
    "    for item in cluster:\n",
    "        w=round(sum(item)/s,3)\n",
    "        wl.append(w)\n",
    "    return wl"
   ]
  },
  {
   "cell_type": "code",
   "execution_count": 7,
   "metadata": {},
   "outputs": [],
   "source": [
    "l = [[4,2],[1,3]]"
   ]
  },
  {
   "cell_type": "code",
   "execution_count": 8,
   "metadata": {},
   "outputs": [
    {
     "name": "stdout",
     "output_type": "stream",
     "text": [
      "entropy list is : [0.9183, 0.8113]\n",
      "weight list is : [0.6, 0.4]\n",
      "total entropy is : 0.8755000000000001\n"
     ]
    }
   ],
   "source": [
    "wl = weight(l)\n",
    "el = []\n",
    "for item in l:\n",
    "    el.append(entropy(item))\n",
    "entropy = 0\n",
    "for i in range(0,len(wl)):\n",
    "    entropy += wl[i]*el[i]\n",
    "print(f\"entropy list is : {el}\")\n",
    "print(f\"weight list is : {wl}\")\n",
    "print(f\"total entropy is : {entropy}\")"
   ]
  },
  {
   "cell_type": "code",
   "execution_count": null,
   "metadata": {},
   "outputs": [],
   "source": []
  }
 ],
 "metadata": {
  "kernelspec": {
   "display_name": "Python 3",
   "language": "python",
   "name": "python3"
  },
  "language_info": {
   "codemirror_mode": {
    "name": "ipython",
    "version": 3
   },
   "file_extension": ".py",
   "mimetype": "text/x-python",
   "name": "python",
   "nbconvert_exporter": "python",
   "pygments_lexer": "ipython3",
   "version": "3.7.4"
  }
 },
 "nbformat": 4,
 "nbformat_minor": 2
}
