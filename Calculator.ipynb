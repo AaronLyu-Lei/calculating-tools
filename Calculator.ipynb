{
 "cells": [
  {
   "cell_type": "markdown",
   "metadata": {},
   "source": [
    "\n",
    "Euclidean Distance\n"
   ]
  },
  {
   "cell_type": "code",
   "execution_count": 1,
   "metadata": {},
   "outputs": [],
   "source": [
    "import math\n",
    "# Euclidean Distance\n",
    "def ED(a,b):\n",
    "    result = math.sqrt((a[0]-b[0])**2+(a[1]-b[1])**2)\n",
    "    return result"
   ]
  },
  {
   "cell_type": "code",
   "execution_count": 108,
   "metadata": {},
   "outputs": [
    {
     "data": {
      "text/plain": [
       "1.4142135623730951"
      ]
     },
     "execution_count": 108,
     "metadata": {},
     "output_type": "execute_result"
    }
   ],
   "source": [
    "p1=(0,0)\n",
    "p2=(1,1)\n",
    "ED(p1,p2)"
   ]
  },
  {
   "cell_type": "markdown",
   "metadata": {},
   "source": [
    "====================================================================================================================="
   ]
  },
  {
   "cell_type": "markdown",
   "metadata": {},
   "source": [
    "\n",
    "Pearson Correlation Coefficience\n"
   ]
  },
  {
   "cell_type": "code",
   "execution_count": 16,
   "metadata": {},
   "outputs": [],
   "source": [
    "#Pearson Correlation Coefficience\n",
    "class Pearson:\n",
    "    def __init__(self,item1,item2):\n",
    "        self.item1 = item1\n",
    "        self.item2 = item2\n",
    "        \n",
    "    def average_value(self,items):\n",
    "        count1 = 0\n",
    "        summary1 = 0\n",
    "        for item in items:\n",
    "            if item != 0:\n",
    "                count1 += 1\n",
    "                summary1 += item\n",
    "            else:\n",
    "                count1 += 0\n",
    "                summary1 += item\n",
    "        return round(summary1/count1,4)\n",
    "    \n",
    "    def transformed_array(self,items,average):\n",
    "        new_items=[]\n",
    "        for item in items:\n",
    "            if item != 0:\n",
    "                new_item = round(item-average,2)\n",
    "                new_items.append(new_item)\n",
    "            if item == 0:\n",
    "                new_items.append(0)\n",
    "        return new_items\n",
    "    \n",
    "    def similarity(self,item1,item2):\n",
    "        s = 0\n",
    "        item1_variance = 0\n",
    "        item2_variance = 0\n",
    "        for i in range(0,len(item1)):\n",
    "            a = item1[i]*item2[i]\n",
    "            s += a\n",
    "            b = item1[i]**2\n",
    "            item1_variance += b\n",
    "            c = item2[i]**2\n",
    "            item2_variance += c\n",
    "        return round(s/(math.sqrt(item1_variance)*math.sqrt(item2_variance)),2)\n",
    "        "
   ]
  },
  {
   "cell_type": "code",
   "execution_count": 8,
   "metadata": {},
   "outputs": [],
   "source": [
    "import pandas as pd\n",
    "import numpy as np\n",
    "from pandas import Series, DataFrame"
   ]
  },
  {
   "cell_type": "code",
   "execution_count": 19,
   "metadata": {},
   "outputs": [],
   "source": [
    "r1 = [1,0,3,0,0,5,0,0,5,0,4,0]\n",
    "r2 = [0,0,5,4,0,0,4,0,0,2,1,3]\n",
    "r3 = [2,4,0,1,2,0,3,0,4,3,5,0]\n",
    "r4 = [0,2,4,0,5,0,0,4,0,0,2,0]\n",
    "r5 = [0,0,4,3,4,2,0,0,0,0,2,5]\n",
    "r6 = [1,0,3,0,3,0,0,2,0,0,4,0]"
   ]
  },
  {
   "cell_type": "code",
   "execution_count": 25,
   "metadata": {},
   "outputs": [
    {
     "data": {
      "text/plain": [
       "-0.18"
      ]
     },
     "execution_count": 25,
     "metadata": {},
     "output_type": "execute_result"
    }
   ],
   "source": [
    "a=r1\n",
    "b=r2\n",
    "Pearson_Sim = Pearson(a,b)\n",
    "avg_a = Pearson_Sim.average_value(a)\n",
    "avg_b = Pearson_Sim.average_value(b)\n",
    "new_item_a = Pearson_Sim.transformed_array(a,avg_a)\n",
    "new_item_b = Pearson_Sim.transformed_array(b,avg_b)\n",
    "Similarity = Pearson_Sim.similarity(new_item_a,new_item_b)\n",
    "Similarity"
   ]
  },
  {
   "cell_type": "code",
   "execution_count": 35,
   "metadata": {},
   "outputs": [
    {
     "name": "stdout",
     "output_type": "stream",
     "text": [
      "the Pearson Correlation between item1 and item1 is: 1.0\n",
      "the Pearson Correlation between item1 and item2 is: -0.18\n",
      "the Pearson Correlation between item1 and item3 is: 0.41\n",
      "the Pearson Correlation between item1 and item4 is: -0.1\n",
      "the Pearson Correlation between item1 and item5 is: -0.31\n",
      "the Pearson Correlation between item1 and item6 is: 0.59\n",
      "[1.0, -0.18, 0.41, -0.1, -0.31, 0.59]\n"
     ]
    }
   ],
   "source": [
    "a = np.array([r1,r2,r3,r4,r5,r6])\n",
    "item_1 = a[0]\n",
    "corr_box=[]\n",
    "for j in range(0,len(a)):\n",
    "    item_j = a[j]\n",
    "    Pearson_Sim = Pearson(item_1,item_j)\n",
    "    avg_1 = Pearson_Sim.average_value(item_1)\n",
    "    avg_j = Pearson_Sim.average_value(item_j)\n",
    "    new_item_1 = Pearson_Sim.transformed_array(item_1,avg_1)\n",
    "    new_item_j = Pearson_Sim.transformed_array(item_j,avg_j)\n",
    "    Similarity = Pearson_Sim.similarity(new_item_1,new_item_j)\n",
    "    corr_box.append(Similarity)\n",
    "    print(f'the Pearson Correlation between item1 and item{j+1} is: {Similarity}')\n",
    "print(corr_box)"
   ]
  },
  {
   "cell_type": "code",
   "execution_count": 36,
   "metadata": {},
   "outputs": [
    {
     "name": "stdout",
     "output_type": "stream",
     "text": [
      "the Pearson Correlation between item1 and item1 is: 1.0\n",
      "the Pearson Correlation between item1 and item2 is: -0.18\n",
      "the Pearson Correlation between item1 and item3 is: 0.41\n",
      "the Pearson Correlation between item1 and item4 is: -0.1\n",
      "the Pearson Correlation between item1 and item5 is: -0.31\n",
      "the Pearson Correlation between item1 and item6 is: 0.59\n",
      "correlation box for row 1 is: [1.0, -0.18, 0.41, -0.1, -0.31, 0.59]\n",
      "the Pearson Correlation between item2 and item1 is: -0.18\n",
      "the Pearson Correlation between item2 and item2 is: 1.0\n",
      "the Pearson Correlation between item2 and item3 is: -0.53\n",
      "the Pearson Correlation between item2 and item4 is: 0.47\n",
      "the Pearson Correlation between item2 and item5 is: 0.4\n",
      "the Pearson Correlation between item2 and item6 is: -0.31\n",
      "correlation box for row 2 is: [-0.18, 1.0, -0.53, 0.47, 0.4, -0.31]\n",
      "the Pearson Correlation between item3 and item1 is: 0.41\n",
      "the Pearson Correlation between item3 and item2 is: -0.53\n",
      "the Pearson Correlation between item3 and item3 is: 1.0\n",
      "the Pearson Correlation between item3 and item4 is: -0.62\n",
      "the Pearson Correlation between item3 and item5 is: -0.28\n",
      "the Pearson Correlation between item3 and item6 is: 0.51\n",
      "correlation box for row 3 is: [0.41, -0.53, 1.0, -0.62, -0.28, 0.51]\n",
      "the Pearson Correlation between item4 and item1 is: -0.1\n",
      "the Pearson Correlation between item4 and item2 is: 0.47\n",
      "the Pearson Correlation between item4 and item3 is: -0.62\n",
      "the Pearson Correlation between item4 and item4 is: 1.0\n",
      "the Pearson Correlation between item4 and item5 is: 0.46\n",
      "the Pearson Correlation between item4 and item6 is: -0.24\n",
      "correlation box for row 4 is: [-0.1, 0.47, -0.62, 1.0, 0.46, -0.24]\n",
      "the Pearson Correlation between item5 and item1 is: -0.31\n",
      "the Pearson Correlation between item5 and item2 is: 0.4\n",
      "the Pearson Correlation between item5 and item3 is: -0.28\n",
      "the Pearson Correlation between item5 and item4 is: 0.46\n",
      "the Pearson Correlation between item5 and item5 is: 1.0\n",
      "the Pearson Correlation between item5 and item6 is: -0.21\n",
      "correlation box for row 5 is: [-0.31, 0.4, -0.28, 0.46, 1.0, -0.21]\n",
      "the Pearson Correlation between item6 and item1 is: 0.59\n",
      "the Pearson Correlation between item6 and item2 is: -0.31\n",
      "the Pearson Correlation between item6 and item3 is: 0.51\n",
      "the Pearson Correlation between item6 and item4 is: -0.24\n",
      "the Pearson Correlation between item6 and item5 is: -0.21\n",
      "the Pearson Correlation between item6 and item6 is: 1.0\n",
      "correlation box for row 6 is: [0.59, -0.31, 0.51, -0.24, -0.21, 1.0]\n",
      "[[ 1.   -0.18  0.41 -0.1  -0.31  0.59]\n",
      " [-0.18  1.   -0.53  0.47  0.4  -0.31]\n",
      " [ 0.41 -0.53  1.   -0.62 -0.28  0.51]\n",
      " [-0.1   0.47 -0.62  1.    0.46 -0.24]\n",
      " [-0.31  0.4  -0.28  0.46  1.   -0.21]\n",
      " [ 0.59 -0.31  0.51 -0.24 -0.21  1.  ]]\n"
     ]
    }
   ],
   "source": [
    "corr_combo = np.empty(shape=[0, 6])\n",
    "for i in range(0,len(a)):\n",
    "    item_i = a[i]\n",
    "    corr_box=[]\n",
    "    for j in range(0,len(a)):\n",
    "        item_j = a[j]\n",
    "        Pearson_Sim = Pearson(item_i,item_j)\n",
    "        avg_i = Pearson_Sim.average_value(item_i)\n",
    "        avg_j = Pearson_Sim.average_value(item_j)\n",
    "        new_item_i = Pearson_Sim.transformed_array(item_i,avg_i)\n",
    "        new_item_j = Pearson_Sim.transformed_array(item_j,avg_j)\n",
    "        Similarity = Pearson_Sim.similarity(new_item_i,new_item_j)\n",
    "        corr_box.append(Similarity)\n",
    "        print(f'the Pearson Correlation between item{i+1} and item{j+1} is: {Similarity}')\n",
    "    corr_combo = np.append(corr_combo, [corr_box],axis=0)\n",
    "    print(f'correlation box for row {i+1} is:',corr_box)\n",
    "print(corr_combo)"
   ]
  },
  {
   "cell_type": "code",
   "execution_count": 37,
   "metadata": {},
   "outputs": [
    {
     "name": "stdout",
     "output_type": "stream",
     "text": [
      "Which item do you want to predict?:1\n",
      "Which user do you want to predict?:5\n"
     ]
    }
   ],
   "source": [
    "i = int(input(\"Which item do you want to predict?:\"))\n",
    "j = int(input(\"Which user do you want to predict?:\"))"
   ]
  },
  {
   "cell_type": "code",
   "execution_count": 38,
   "metadata": {},
   "outputs": [
    {
     "data": {
      "text/plain": [
       "[2, 5]"
      ]
     },
     "execution_count": 38,
     "metadata": {},
     "output_type": "execute_result"
    }
   ],
   "source": [
    "target_item = pd.Series(corr_combo[i-1]).sort_values().index[-3:-1].to_list()\n",
    "target_item"
   ]
  },
  {
   "cell_type": "code",
   "execution_count": 39,
   "metadata": {},
   "outputs": [
    {
     "name": "stdout",
     "output_type": "stream",
     "text": [
      "the user5's rank on item1 is: 2.59\n"
     ]
    }
   ],
   "source": [
    "rank = round((a[target_item[0]][j-1]*corr_combo[i-1][target_item[0]]+a[target_item[1]][j-1]*corr_combo[i-1][target_item[1]])\n",
    "             /(corr_combo[i-1][target_item[0]]+corr_combo[i-1][target_item[1]]),2)\n",
    "print(f\"the user{j}'s rank on item{i} is:\",rank)"
   ]
  },
  {
   "cell_type": "markdown",
   "metadata": {},
   "source": [
    "===================================================================================================================="
   ]
  },
  {
   "cell_type": "markdown",
   "metadata": {},
   "source": [
    "Equal-depth Partitioning"
   ]
  },
  {
   "cell_type": "code",
   "execution_count": 9,
   "metadata": {},
   "outputs": [],
   "source": [
    "# partition original dataset\n",
    "def partition(dataset):\n",
    "    for i in range(0,len(dataset)):\n",
    "        s = math.modf(i/elements)\n",
    "        a = int(s[1])\n",
    "        groups[a].append(dataset.values[i])\n",
    "\n",
    "# calcuate mean for each group\n",
    "def average(group):\n",
    "    summary=0\n",
    "    count=0\n",
    "    for item in group:\n",
    "        summary += item\n",
    "        count += 1\n",
    "    avg = round(summary/count,1)\n",
    "    print(f\"{group}'s mean is {avg}\\n\")\n",
    "    return avg\n",
    "\n",
    "#get each group's mean\n",
    "def new_groups(sets,avg):\n",
    "    for i in range(0,len(sets)):\n",
    "        for j in range(0,len(sets[i])):\n",
    "            sets[i][j] = avg[i]\n",
    "        print(f'New gouup{i+1} is : {sets[i]}\\n')\n",
    "    \n",
    "#replace each group with its mean\n",
    "def replace(dataset,avg_values_list):\n",
    "    for i in range(0,len(dataset)):\n",
    "        s = math.modf(i/elements)\n",
    "        a = int(s[1])\n",
    "        dataset.values[i] = avg_values_list[a]\n",
    "    return dataset"
   ]
  },
  {
   "cell_type": "code",
   "execution_count": 10,
   "metadata": {},
   "outputs": [
    {
     "name": "stdout",
     "output_type": "stream",
     "text": [
      "The original dataset should be partitioned to(enter an integer):6\n",
      "group1 is [20.0, 22.0, 22.0, 23.0, 23.0, 24.0, 25.0, 25.0]\n",
      "\n",
      "group2 is [26.0, 26.0, 28.0, 28.0, 29.0, 30.0, 32.0, 34.0]\n",
      "\n",
      "group3 is [41.0, 41.0, 42.0, 43.0, 44.0, 44.0, 45.0, 45.0]\n",
      "\n",
      "group4 is [46.0, 46.0, 46.0, 46.0, 46.0, 46.0, 46.0, 46.0]\n",
      "\n",
      "group5 is [47.0, 47.0, 47.0, 47.0, 47.0, 48.0, 48.0, 48.0]\n",
      "\n",
      "group6 is [49.0, 49.0, 49.0, 50.0, 50.0, 50.0, 59.0, 60.0]\n",
      "\n",
      "[20.0, 22.0, 22.0, 23.0, 23.0, 24.0, 25.0, 25.0]'s mean is 23.0\n",
      "\n",
      "[26.0, 26.0, 28.0, 28.0, 29.0, 30.0, 32.0, 34.0]'s mean is 29.1\n",
      "\n",
      "[41.0, 41.0, 42.0, 43.0, 44.0, 44.0, 45.0, 45.0]'s mean is 43.1\n",
      "\n",
      "[46.0, 46.0, 46.0, 46.0, 46.0, 46.0, 46.0, 46.0]'s mean is 46.0\n",
      "\n",
      "[47.0, 47.0, 47.0, 47.0, 47.0, 48.0, 48.0, 48.0]'s mean is 47.4\n",
      "\n",
      "[49.0, 49.0, 49.0, 50.0, 50.0, 50.0, 59.0, 60.0]'s mean is 52.0\n",
      "\n",
      "average values's list is : [23.0, 29.1, 43.1, 46.0, 47.4, 52.0]\n",
      "\n",
      "New gouup1 is : [23.0, 23.0, 23.0, 23.0, 23.0, 23.0, 23.0, 23.0]\n",
      "\n",
      "New gouup2 is : [29.1, 29.1, 29.1, 29.1, 29.1, 29.1, 29.1, 29.1]\n",
      "\n",
      "New gouup3 is : [43.1, 43.1, 43.1, 43.1, 43.1, 43.1, 43.1, 43.1]\n",
      "\n",
      "New gouup4 is : [46.0, 46.0, 46.0, 46.0, 46.0, 46.0, 46.0, 46.0]\n",
      "\n",
      "New gouup5 is : [47.4, 47.4, 47.4, 47.4, 47.4, 47.4, 47.4, 47.4]\n",
      "\n",
      "New gouup6 is : [52.0, 52.0, 52.0, 52.0, 52.0, 52.0, 52.0, 52.0]\n",
      "\n",
      "new dataset is \n",
      "[23.0, 23.0, 23.0, 23.0, 23.0, 23.0, 23.0, 23.0, 29.1, 29.1, 29.1, 29.1, 29.1, 29.1, 29.1, 29.1, 43.1, 43.1, 43.1, 43.1, 43.1, 43.1, 43.1, 43.1, 46.0, 46.0, 46.0, 46.0, 46.0, 46.0, 46.0, 46.0, 47.4, 47.4, 47.4, 47.4, 47.4, 47.4, 47.4, 47.4, 52.0, 52.0, 52.0, 52.0, 52.0, 52.0, 52.0, 52.0]\n",
      "\n",
      "restore the sorted_list according to original sequence:\n",
      "[23.0, 29.1, 29.1, 23.0, 52.0, 29.1, 23.0, 29.1, 29.1, 43.1, 46.0, 43.1, 52.0, 46.0, 47.4, 52.0, 47.4, 47.4, 47.4, 47.4, 46.0, 43.1, 46.0, 47.4, 52.0, 52.0, 52.0, 43.1, 47.4, 47.4, 46.0, 52.0, 43.1, 46.0, 46.0, 43.1, 43.1, 46.0, 43.1, 29.1, 29.1, 52.0, 29.1, 23.0, 23.0, 23.0, 23.0, 23.0]\n",
      "\n"
     ]
    }
   ],
   "source": [
    "original_list = pd.Series([22, 26, 30, 25, 49, 28, 23, 29, 32, 41, 46, 43, 59, 46, 47, 50, 47, 48, 47, \n",
    "                           47, 46, 45, 46, 48, 50, 50, 49, 45, 48, 47, 46, 49, 42, 46, 46, 44, 44, 46, \n",
    "                           41, 34, 28, 60, 26, 22, 25, 23, 20, 24]).astype(float)\n",
    "length = len(original_list)\n",
    "groups_no = int(input(\"The original dataset should be partitioned to(enter an integer):\"))\n",
    "elements = length/groups_no\n",
    "\n",
    "#make fixed groups, the number of groups designed by users\n",
    "groups = []\n",
    "for group in range(0,groups_no):\n",
    "    groups.append([])\n",
    "\n",
    "#sort the original list ascendingly\n",
    "sorted_list=original_list.sort_values()\n",
    "\n",
    "#partition the list to designated groups\n",
    "partition(sorted_list)\n",
    "for i in range(0,len(groups)):\n",
    "    print(f\"group{i+1} is {groups[i]}\\n\")\n",
    "    \n",
    "#create a average values list\n",
    "average_values=[]\n",
    "for i in range(0,len(groups)):\n",
    "    a = average(groups[i])\n",
    "    average_values.append(a)\n",
    "print(f\"average values's list is : {average_values}\\n\")\n",
    "\n",
    "#print new groups:\n",
    "new_groups(groups,average_values)\n",
    "\n",
    "#replace the sorted list with each group's mean\n",
    "new_list = replace(sorted_list,average_values)\n",
    "print(f\"new dataset is \\n{new_list.to_list()}\\n\")\n",
    "\n",
    "#restore the sorted_list to original one according to original index\n",
    "restored_list = new_list.sort_index().to_list()\n",
    "print(f\"restore the sorted_list according to original sequence:\\n{restored_list}\\n\")"
   ]
  },
  {
   "cell_type": "code",
   "execution_count": null,
   "metadata": {},
   "outputs": [],
   "source": []
  },
  {
   "cell_type": "markdown",
   "metadata": {},
   "source": [
    "====================================================================================================================="
   ]
  },
  {
   "cell_type": "markdown",
   "metadata": {},
   "source": [
    "decimal to binary"
   ]
  },
  {
   "cell_type": "code",
   "execution_count": null,
   "metadata": {},
   "outputs": [],
   "source": [
    "bin(23)"
   ]
  },
  {
   "cell_type": "code",
   "execution_count": null,
   "metadata": {},
   "outputs": [],
   "source": []
  }
 ],
 "metadata": {
  "kernelspec": {
   "display_name": "Python 3",
   "language": "python",
   "name": "python3"
  },
  "language_info": {
   "codemirror_mode": {
    "name": "ipython",
    "version": 3
   },
   "file_extension": ".py",
   "mimetype": "text/x-python",
   "name": "python",
   "nbconvert_exporter": "python",
   "pygments_lexer": "ipython3",
   "version": "3.7.4"
  }
 },
 "nbformat": 4,
 "nbformat_minor": 2
}
