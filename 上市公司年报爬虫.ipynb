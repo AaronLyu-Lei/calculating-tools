{
 "cells": [
  {
   "cell_type": "code",
   "execution_count": 91,
   "metadata": {},
   "outputs": [],
   "source": [
    "import urllib.request\n",
    "import re\n",
    "import os\n",
    "try:\n",
    "    os.mkdir('./'+'上市公司年报')\n",
    "except:\n",
    "    pass\n",
    "\n",
    "while True:\n",
    "    try:\n",
    "        stockid = input(\"请输入你需要抓取年报的上市公司股票代码：\")\n",
    "        url='http://vip.stock.finance.sina.com.cn/corp/go.php/vCB_Bulletin/stockid/'+stockid+'/page_type/ndbg.phtml'\n",
    "        req = urllib.request.Request(url)\n",
    "        req.add_header('User-Agent','Mozilla/5.0 (Windows NT 6.2; rv:16.0) Gecko/20100101 Firefox/16.0')\n",
    "        page = urllib.request.urlopen(req)\n",
    "        html = page.read().decode('gbk')\n",
    "        name = re.search('<title>.*?</title>',html)\n",
    "        splited_name = name.group(0).split('>')[1]\n",
    "        target = r'&id=[_0-9_]{6,7}'\n",
    "        target_list = re.findall(target,html)\n",
    "        direct = splited_name.split('_')[0]\n",
    "        os.mkdir('./'+'上市公司年报'+'/'+ direct)\n",
    "        print(target_list)\n",
    "        print(name)\n",
    "        for each in target_list:\n",
    "            print(each)\n",
    "            target_url='http://vip.stock.finance.sina.com.cn/corp/view/vCB_AllBulletinDetail.php?stockid='+stockid+each\n",
    "            treq = urllib.request.Request(target_url)\n",
    "            treq.add_header('User-Agent','Mozilla/5.0 (Windows NT 6.2; rv:16.0) Gecko/20100101 Firefox/16.0')\n",
    "            tpage = urllib.request.urlopen(treq)\n",
    "            thtml = tpage.read().decode('gbk')\n",
    "            try:\n",
    "                file_url = re.search('http://file.finance.sina.com.cn/211.154.219.97:9494/.*?PDF',thtml)\n",
    "                file_name = re.search('<th style=\"text-align:center\">.*<font size=2>',thtml)\n",
    "                a = file_name.group(0).split('>')[1]\n",
    "                splited_file_name = a.split('<')[0]\n",
    "                print(file_url.group(0))\n",
    "                local = './上市公司年报/'+direct+'/'+splited_file_name.strip()+'.pdf'\n",
    "                urllib.request.urlretrieve(file_url.group(0),local,None)\n",
    "            except:\n",
    "                print('失效')\n",
    "        final=input('下载已经完成，是否继续下载其它上市公司年报？（是/否）')\n",
    "        if final == '是':\n",
    "            continue\n",
    "        else:\n",
    "            break  \n",
    "    except:\n",
    "        print('股票代码有误')"
   ]
  },
  {
   "cell_type": "code",
   "execution_count": null,
   "metadata": {},
   "outputs": [],
   "source": []
  }
 ],
 "metadata": {
  "kernelspec": {
   "display_name": "Python 3",
   "language": "python",
   "name": "python3"
  },
  "language_info": {
   "codemirror_mode": {
    "name": "ipython",
    "version": 3
   },
   "file_extension": ".py",
   "mimetype": "text/x-python",
   "name": "python",
   "nbconvert_exporter": "python",
   "pygments_lexer": "ipython3",
   "version": "3.7.4"
  }
 },
 "nbformat": 4,
 "nbformat_minor": 2
}
