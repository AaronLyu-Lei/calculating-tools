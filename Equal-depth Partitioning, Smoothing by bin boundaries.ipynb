{
 "cells": [
  {
   "cell_type": "code",
   "execution_count": 4,
   "metadata": {},
   "outputs": [],
   "source": [
    "import math\n",
    "import pandas as pd\n",
    "import numpy as np\n",
    "from pandas import Series, DataFrame\n",
    "\n",
    "# partition original dataset\n",
    "def partition(dataset):\n",
    "    for i in range(0,len(dataset)):\n",
    "        s = math.modf(i/elements)\n",
    "        a = int(s[1])\n",
    "        groups[a].append(dataset.values[i])\n",
    "\n",
    "#smooth group by bin boundary\n",
    "def new_groups(sets):\n",
    "    for i in range(0,len(sets)):\n",
    "        for j in range(0,len(sets[i])):\n",
    "            lower_dif = sets[i][j]-sets[i][0]\n",
    "            upper_dif = sets[i][-1]-sets[i][j]\n",
    "            if lower_dif <= upper_dif:\n",
    "                sets[i][j] = sets[i][0]\n",
    "            else:\n",
    "                sets[i][j] = sets[i][-1]\n",
    "        print(f'New gouup{i+1} is : {sets[i]}\\n')\n",
    "    \n",
    "#replace the dataset\n",
    "def replace(dataset,sets):\n",
    "    for i in range(0,len(dataset)):\n",
    "        s = math.modf(i/elements)\n",
    "        k = int((i+1)%elements)\n",
    "        a = int(s[1])\n",
    "        dataset.values[i] = sets[a][k-1]\n",
    "    return dataset"
   ]
  },
  {
   "cell_type": "code",
   "execution_count": 5,
   "metadata": {},
   "outputs": [
    {
     "name": "stdout",
     "output_type": "stream",
     "text": [
      "The original dataset should be partitioned to n group,n=(enter an integer):\n",
      "6\n",
      "group1 is [9.0, 12.0, 25.0]\n",
      "\n",
      "group2 is [26.0, 33.0, 33.0]\n",
      "\n",
      "group3 is [34.0, 36.0]\n",
      "\n",
      "group4 is [42.0, 43.0, 48.0]\n",
      "\n",
      "group5 is [49.0, 61.0, 69.0]\n",
      "\n",
      "group6 is [69.0, 72.0]\n",
      "\n",
      "New gouup1 is : [9.0, 9.0, 25.0]\n",
      "\n",
      "New gouup2 is : [26.0, 33.0, 33.0]\n",
      "\n",
      "New gouup3 is : [34.0, 36.0]\n",
      "\n",
      "New gouup4 is : [42.0, 42.0, 48.0]\n",
      "\n",
      "New gouup5 is : [49.0, 69.0, 69.0]\n",
      "\n",
      "New gouup6 is : [69.0, 72.0]\n",
      "\n",
      "new dataset is \n",
      "[9.0, 9.0, 25.0, 26.0, 33.0, 33.0, 34.0, 36.0, 42.0, 42.0, 48.0, 49.0, 69.0, 69.0, 69.0, 72.0]\n",
      "\n",
      "restore the sorted_list according to original sequence:\n",
      "[42.0, 48.0, 36.0, 69.0, 49.0, 42.0, 9.0, 34.0, 69.0, 33.0, 9.0, 33.0, 26.0, 25.0, 72.0, 69.0]\n",
      "\n"
     ]
    }
   ],
   "source": [
    "original_list = pd.Series([43,48,36,69,49,42,12,34,61,33,9,33,26,25,72,69]).astype(float)\n",
    "length = len(original_list)\n",
    "groups_no = int(input(\"The original dataset should be partitioned to n group,n=(enter an integer):\\n\"))\n",
    "elements = length/groups_no\n",
    "\n",
    "#make fixed groups, the number of groups designed by users\n",
    "groups = []\n",
    "for group in range(0,groups_no):\n",
    "    groups.append([])\n",
    "\n",
    "#sort the original list ascendingly\n",
    "sorted_list=original_list.sort_values()\n",
    "\n",
    "#partition the list to designated groups\n",
    "partition(sorted_list)\n",
    "for i in range(0,len(groups)):\n",
    "    print(f\"group{i+1} is {groups[i]}\\n\")    \n",
    "\n",
    "#print new groups:\n",
    "new_groups(groups)\n",
    "\n",
    "#replace the sorted list with each group's mean\n",
    "new_list = replace(sorted_list,groups)\n",
    "print(f\"new dataset is \\n{new_list.to_list()}\\n\")\n",
    "\n",
    "#restore the sorted_list to original one according to original index\n",
    "restored_list = new_list.sort_index().to_list()\n",
    "print(f\"restore the sorted_list according to original sequence:\\n{restored_list}\\n\")"
   ]
  },
  {
   "cell_type": "code",
   "execution_count": null,
   "metadata": {},
   "outputs": [],
   "source": []
  }
 ],
 "metadata": {
  "kernelspec": {
   "display_name": "Python 3",
   "language": "python",
   "name": "python3"
  },
  "language_info": {
   "codemirror_mode": {
    "name": "ipython",
    "version": 3
   },
   "file_extension": ".py",
   "mimetype": "text/x-python",
   "name": "python",
   "nbconvert_exporter": "python",
   "pygments_lexer": "ipython3",
   "version": "3.7.4"
  }
 },
 "nbformat": 4,
 "nbformat_minor": 2
}
