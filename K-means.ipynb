{
 "cells": [
  {
   "cell_type": "code",
   "execution_count": 1,
   "metadata": {},
   "outputs": [],
   "source": [
    "import math\n",
    "import pandas as pd\n",
    "import numpy as np\n",
    "from pandas import Series, DataFrame"
   ]
  },
  {
   "cell_type": "code",
   "execution_count": 2,
   "metadata": {},
   "outputs": [],
   "source": [
    "# Euclidean Distance\n",
    "def ED(a,b):\n",
    "    result = round(math.sqrt((a[0]-b[0])**2+(a[1]-b[1])**2),3)\n",
    "    return result"
   ]
  },
  {
   "cell_type": "code",
   "execution_count": 3,
   "metadata": {},
   "outputs": [],
   "source": [
    "points=[(1,4),(2,2),(2,8),(3,3),(4,1),(5,3),(6,6),(7,7),(8,3),(9,9)]\n",
    "\n",
    "center1_collect = []\n",
    "center1 = (1,1)\n",
    "center2 = (6,6)\n",
    "cluster1 = []\n",
    "index1 = []\n",
    "cluster2 = []\n",
    "index2 = []"
   ]
  },
  {
   "cell_type": "code",
   "execution_count": 4,
   "metadata": {},
   "outputs": [],
   "source": [
    "#allocate points to each cluster\n",
    "def allocate(dataset,C1,C2):\n",
    "    for i in range(0,len(dataset)):\n",
    "        distance1 = ED(dataset[i],C1)\n",
    "        distance2 = ED(dataset[i],C2)\n",
    "        print(f\"point{i+1}{dataset[i]}-C1: {distance1}; point{i+1}{dataset[i]}-C2: {distance2}\")\n",
    "        if distance1 <= distance2:\n",
    "            index1.append(i+1)\n",
    "            cluster1.append(dataset[i])\n",
    "        else:\n",
    "            index2.append(i+1)\n",
    "            cluster2.append(dataset[i])\n",
    "    print(f\"\\nCluster1 is {index1}\\nCluster2 is {index2}\")\n",
    "\n",
    "#calculate new center\n",
    "def cal_new_center(lists):\n",
    "    x_sum = 0\n",
    "    y_sum = 0\n",
    "    for item in lists:\n",
    "        x_sum += item[0]\n",
    "        y_sum += item[1]\n",
    "    x = round(x_sum/len(lists),2)\n",
    "    y = round(y_sum/len(lists),2)\n",
    "    return (x,y)\n",
    "\n",
    "#clean cluster\n",
    "def clean(cluster):\n",
    "    while cluster != []:\n",
    "        cluster.pop()\n",
    "    return cluster"
   ]
  },
  {
   "cell_type": "code",
   "execution_count": 5,
   "metadata": {},
   "outputs": [
    {
     "name": "stdout",
     "output_type": "stream",
     "text": [
      "This is iteration 1, the distances between each point and centers are:\n",
      "point1(1, 4)-C1: 3.0; point1(1, 4)-C2: 5.385\n",
      "point2(2, 2)-C1: 1.414; point2(2, 2)-C2: 5.657\n",
      "point3(2, 8)-C1: 7.071; point3(2, 8)-C2: 4.472\n",
      "point4(3, 3)-C1: 2.828; point4(3, 3)-C2: 4.243\n",
      "point5(4, 1)-C1: 3.0; point5(4, 1)-C2: 5.385\n",
      "point6(5, 3)-C1: 4.472; point6(5, 3)-C2: 3.162\n",
      "point7(6, 6)-C1: 7.071; point7(6, 6)-C2: 0.0\n",
      "point8(7, 7)-C1: 8.485; point8(7, 7)-C2: 1.414\n",
      "point9(8, 3)-C1: 7.28; point9(8, 3)-C2: 3.606\n",
      "point10(9, 9)-C1: 11.314; point10(9, 9)-C2: 4.243\n",
      "\n",
      "Cluster1 is [1, 2, 4, 5]\n",
      "Cluster2 is [3, 6, 7, 8, 9, 10]\n",
      "new center1 is (2.5, 2.5)\n",
      "new center2 is (6.17, 6.0)\n",
      "\n",
      "This is iteration 2, the distances between each point and centers are:\n",
      "point1(1, 4)-C1: 2.121; point1(1, 4)-C2: 5.543\n",
      "point2(2, 2)-C1: 0.707; point2(2, 2)-C2: 5.778\n",
      "point3(2, 8)-C1: 5.523; point3(2, 8)-C2: 4.625\n",
      "point4(3, 3)-C1: 0.707; point4(3, 3)-C2: 4.365\n",
      "point5(4, 1)-C1: 2.121; point5(4, 1)-C2: 5.451\n",
      "point6(5, 3)-C1: 2.55; point6(5, 3)-C2: 3.22\n",
      "point7(6, 6)-C1: 4.95; point7(6, 6)-C2: 0.17\n",
      "point8(7, 7)-C1: 6.364; point8(7, 7)-C2: 1.3\n",
      "point9(8, 3)-C1: 5.523; point9(8, 3)-C2: 3.514\n",
      "point10(9, 9)-C1: 9.192; point10(9, 9)-C2: 4.124\n",
      "\n",
      "Cluster1 is [1, 2, 4, 5, 6]\n",
      "Cluster2 is [3, 7, 8, 9, 10]\n",
      "new center1 is (3.0, 2.6)\n",
      "new center2 is (6.4, 6.6)\n",
      "\n",
      "This is iteration 3, the distances between each point and centers are:\n",
      "point1(1, 4)-C1: 2.441; point1(1, 4)-C2: 5.993\n",
      "point2(2, 2)-C1: 1.166; point2(2, 2)-C2: 6.366\n",
      "point3(2, 8)-C1: 5.492; point3(2, 8)-C2: 4.617\n",
      "point4(3, 3)-C1: 0.4; point4(3, 3)-C2: 4.952\n",
      "point5(4, 1)-C1: 1.887; point5(4, 1)-C2: 6.093\n",
      "point6(5, 3)-C1: 2.04; point6(5, 3)-C2: 3.863\n",
      "point7(6, 6)-C1: 4.534; point7(6, 6)-C2: 0.721\n",
      "point8(7, 7)-C1: 5.946; point8(7, 7)-C2: 0.721\n",
      "point9(8, 3)-C1: 5.016; point9(8, 3)-C2: 3.94\n",
      "point10(9, 9)-C1: 8.773; point10(9, 9)-C2: 3.538\n",
      "\n",
      "Cluster1 is [1, 2, 4, 5, 6]\n",
      "Cluster2 is [3, 7, 8, 9, 10]\n",
      "new center1 is (3.0, 2.6)\n",
      "new center2 is (6.4, 6.6)\n",
      "\n"
     ]
    }
   ],
   "source": [
    "while True:\n",
    "    n = len(center1_collect)+1\n",
    "    print(f\"This is iteration {n}, the distances between each point and centers are:\")\n",
    "    allocate(points,center1,center2)\n",
    "    center1_collect.append(center1)\n",
    "    center1 = cal_new_center(cluster1)\n",
    "    center2 = cal_new_center(cluster2)\n",
    "    clean(cluster1)\n",
    "    clean(index1)\n",
    "    clean(cluster2)\n",
    "    clean(index2)\n",
    "    print(f\"new center1 is {center1}\\nnew center2 is {center2}\\n\")\n",
    "    if center1 == center1_collect[-1]:\n",
    "        break"
   ]
  },
  {
   "cell_type": "code",
   "execution_count": null,
   "metadata": {},
   "outputs": [],
   "source": []
  }
 ],
 "metadata": {
  "kernelspec": {
   "display_name": "Python 3",
   "language": "python",
   "name": "python3"
  },
  "language_info": {
   "codemirror_mode": {
    "name": "ipython",
    "version": 3
   },
   "file_extension": ".py",
   "mimetype": "text/x-python",
   "name": "python",
   "nbconvert_exporter": "python",
   "pygments_lexer": "ipython3",
   "version": "3.7.4"
  }
 },
 "nbformat": 4,
 "nbformat_minor": 2
}
