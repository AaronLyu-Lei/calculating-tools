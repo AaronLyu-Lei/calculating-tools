{
 "cells": [
  {
   "cell_type": "code",
   "execution_count": 1,
   "metadata": {},
   "outputs": [],
   "source": [
    "import math"
   ]
  },
  {
   "cell_type": "code",
   "execution_count": 2,
   "metadata": {},
   "outputs": [],
   "source": [
    "c = [4,4]"
   ]
  },
  {
   "cell_type": "code",
   "execution_count": 3,
   "metadata": {},
   "outputs": [],
   "source": [
    "def gini(cluster):\n",
    "    s = 0\n",
    "    g = 0\n",
    "    for item in cluster:\n",
    "        s += item\n",
    "    for item in cluster:\n",
    "        g += (item/s)**2\n",
    "    return round(1-g,4)"
   ]
  },
  {
   "cell_type": "code",
   "execution_count": 4,
   "metadata": {},
   "outputs": [
    {
     "data": {
      "text/plain": [
       "0.5"
      ]
     },
     "execution_count": 4,
     "metadata": {},
     "output_type": "execute_result"
    }
   ],
   "source": [
    "gini(c)"
   ]
  },
  {
   "cell_type": "code",
   "execution_count": 5,
   "metadata": {},
   "outputs": [],
   "source": [
    "l=[[1,1],[3,1]]"
   ]
  },
  {
   "cell_type": "code",
   "execution_count": 6,
   "metadata": {},
   "outputs": [],
   "source": [
    "def gini(cluster):\n",
    "    s = 0\n",
    "    g = 0\n",
    "    for item in cluster:\n",
    "        s += item\n",
    "    for item in cluster:\n",
    "        g += (item/s)**2\n",
    "    return round(1-g,4)\n",
    "\n",
    "def weight(cluster):\n",
    "    s = 0\n",
    "    wl = []\n",
    "    for item in cluster:\n",
    "        for token in item:\n",
    "            s += token\n",
    "    for item in cluster:\n",
    "        w=round(sum(item)/s,3)\n",
    "        wl.append(w)\n",
    "    return wl"
   ]
  },
  {
   "cell_type": "code",
   "execution_count": 7,
   "metadata": {},
   "outputs": [
    {
     "name": "stdout",
     "output_type": "stream",
     "text": [
      "gini list is : [0.5, 0.375]\n",
      "weight list is : [0.333, 0.667]\n",
      "total gini is : 0.416625\n"
     ]
    }
   ],
   "source": [
    "wl = weight(l)\n",
    "gl = []\n",
    "for item in l:\n",
    "    gl.append(gini(item))\n",
    "gini = 0\n",
    "for i in range(0,len(wl)):\n",
    "    gini += wl[i]*gl[i]\n",
    "print(f\"gini list is : {gl}\")\n",
    "print(f\"weight list is : {wl}\")\n",
    "print(f\"total gini is : {gini}\")"
   ]
  },
  {
   "cell_type": "code",
   "execution_count": null,
   "metadata": {},
   "outputs": [],
   "source": []
  }
 ],
 "metadata": {
  "kernelspec": {
   "display_name": "Python 3",
   "language": "python",
   "name": "python3"
  },
  "language_info": {
   "codemirror_mode": {
    "name": "ipython",
    "version": 3
   },
   "file_extension": ".py",
   "mimetype": "text/x-python",
   "name": "python",
   "nbconvert_exporter": "python",
   "pygments_lexer": "ipython3",
   "version": "3.7.4"
  }
 },
 "nbformat": 4,
 "nbformat_minor": 2
}
