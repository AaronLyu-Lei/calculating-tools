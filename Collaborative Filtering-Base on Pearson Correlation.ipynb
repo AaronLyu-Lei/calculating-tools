{
 "cells": [
  {
   "cell_type": "code",
   "execution_count": 2,
   "metadata": {},
   "outputs": [],
   "source": [
    "import pandas as pd\n",
    "import numpy as np\n",
    "import math\n",
    "from pandas import Series, DataFrame"
   ]
  },
  {
   "cell_type": "code",
   "execution_count": 3,
   "metadata": {},
   "outputs": [],
   "source": [
    "# Euclidean Distance\n",
    "def ED(a,b):\n",
    "    result = round(math.sqrt((a[0]-b[0])**2+(a[1]-b[1])**2),3)\n",
    "    return result\n",
    "\n",
    "#Pearson Correlation Coefficience\n",
    "class Pearson:\n",
    "    def __init__(self,item1,item2):\n",
    "        self.item1 = item1\n",
    "        self.item2 = item2\n",
    "        \n",
    "    def average_value(self,items):\n",
    "        count1 = 0\n",
    "        summary1 = 0\n",
    "        for item in items:\n",
    "            if item != 0:\n",
    "                count1 += 1\n",
    "                summary1 += item\n",
    "            else:\n",
    "                count1 += 0\n",
    "                summary1 += item\n",
    "        return round(summary1/count1,4)\n",
    "    \n",
    "    def transformed_array(self,items,average):\n",
    "        new_items=[]\n",
    "        for item in items:\n",
    "            if item != 0:\n",
    "                new_item = round(item-average,2)\n",
    "                new_items.append(new_item)\n",
    "            if item == 0:\n",
    "                new_items.append(0)\n",
    "        return new_items\n",
    "    \n",
    "    def similarity(self,item1,item2):\n",
    "        s = 0\n",
    "        item1_variance = 0\n",
    "        item2_variance = 0\n",
    "        for i in range(0,len(item1)):\n",
    "            a = item1[i]*item2[i]\n",
    "            s += a\n",
    "            b = item1[i]**2\n",
    "            item1_variance += b\n",
    "            c = item2[i]**2\n",
    "            item2_variance += c\n",
    "        return round(s/(math.sqrt(item1_variance)*math.sqrt(item2_variance)),2)\n",
    "        "
   ]
  },
  {
   "cell_type": "code",
   "execution_count": 4,
   "metadata": {},
   "outputs": [],
   "source": [
    "r1 = [0,0,0,3,0,2,3,0,1,1,2,0]\n",
    "r2 = [2,0,0,2,0,3,5,0,0,2,3,0]\n",
    "r3 = [2,4,0,1,2,0,3,0,4,3,5,0]\n",
    "r4 = [0,2,4,0,5,0,0,4,0,0,2,0]\n",
    "r5 = [0,0,4,3,4,2,0,0,0,0,2,5]\n",
    "r6 = [1,0,3,0,3,0,0,2,0,0,4,0]"
   ]
  },
  {
   "cell_type": "code",
   "execution_count": 5,
   "metadata": {},
   "outputs": [
    {
     "data": {
      "text/plain": [
       "0.42"
      ]
     },
     "execution_count": 5,
     "metadata": {},
     "output_type": "execute_result"
    }
   ],
   "source": [
    "a=r1\n",
    "b=r2\n",
    "Pearson_Sim = Pearson(a,b)\n",
    "avg_a = Pearson_Sim.average_value(a)\n",
    "avg_b = Pearson_Sim.average_value(b)\n",
    "new_item_a = Pearson_Sim.transformed_array(a,avg_a)\n",
    "new_item_b = Pearson_Sim.transformed_array(b,avg_b)\n",
    "Similarity = Pearson_Sim.similarity(new_item_a,new_item_b)\n",
    "Similarity"
   ]
  },
  {
   "cell_type": "code",
   "execution_count": 6,
   "metadata": {},
   "outputs": [
    {
     "name": "stdout",
     "output_type": "stream",
     "text": [
      "the Pearson Correlation between item1 and item1 is: 1.0\n",
      "the Pearson Correlation between item1 and item2 is: 0.42\n",
      "the Pearson Correlation between item1 and item3 is: -0.43\n",
      "the Pearson Correlation between item1 and item4 is: 0.0\n",
      "the Pearson Correlation between item1 and item5 is: -0.06\n",
      "the Pearson Correlation between item1 and item6 is: 0.0\n",
      "[1.0, 0.42, -0.43, 0.0, -0.06, 0.0]\n"
     ]
    }
   ],
   "source": [
    "a = np.array([r1,r2,r3,r4,r5,r6])\n",
    "item_1 = a[0]\n",
    "corr_box=[]\n",
    "for j in range(0,len(a)):\n",
    "    item_j = a[j]\n",
    "    Pearson_Sim = Pearson(item_1,item_j)\n",
    "    avg_1 = Pearson_Sim.average_value(item_1)\n",
    "    avg_j = Pearson_Sim.average_value(item_j)\n",
    "    new_item_1 = Pearson_Sim.transformed_array(item_1,avg_1)\n",
    "    new_item_j = Pearson_Sim.transformed_array(item_j,avg_j)\n",
    "    Similarity = Pearson_Sim.similarity(new_item_1,new_item_j)\n",
    "    corr_box.append(Similarity)\n",
    "    print(f'the Pearson Correlation between item1 and item{j+1} is: {Similarity}')\n",
    "print(corr_box)"
   ]
  },
  {
   "cell_type": "code",
   "execution_count": 7,
   "metadata": {},
   "outputs": [
    {
     "name": "stdout",
     "output_type": "stream",
     "text": [
      "the Pearson Correlation between item1 and item1 is: 1.0\n",
      "the Pearson Correlation between item1 and item2 is: 0.42\n",
      "the Pearson Correlation between item1 and item3 is: -0.43\n",
      "the Pearson Correlation between item1 and item4 is: 0.0\n",
      "the Pearson Correlation between item1 and item5 is: -0.06\n",
      "the Pearson Correlation between item1 and item6 is: 0.0\n",
      "correlation box for row 1 is: [1.0, 0.42, -0.43, 0.0, -0.06, 0.0]\n",
      "the Pearson Correlation between item2 and item1 is: 0.42\n",
      "the Pearson Correlation between item2 and item2 is: 1.0\n",
      "the Pearson Correlation between item2 and item3 is: 0.31\n",
      "the Pearson Correlation between item2 and item4 is: -0.03\n",
      "the Pearson Correlation between item2 and item5 is: -0.03\n",
      "the Pearson Correlation between item2 and item6 is: 0.26\n",
      "correlation box for row 2 is: [0.42, 1.0, 0.31, -0.03, -0.03, 0.26]\n",
      "the Pearson Correlation between item3 and item1 is: -0.43\n",
      "the Pearson Correlation between item3 and item2 is: 0.31\n",
      "the Pearson Correlation between item3 and item3 is: 1.0\n",
      "the Pearson Correlation between item3 and item4 is: -0.62\n",
      "the Pearson Correlation between item3 and item5 is: -0.28\n",
      "the Pearson Correlation between item3 and item6 is: 0.51\n",
      "correlation box for row 3 is: [-0.43, 0.31, 1.0, -0.62, -0.28, 0.51]\n",
      "the Pearson Correlation between item4 and item1 is: 0.0\n",
      "the Pearson Correlation between item4 and item2 is: -0.03\n",
      "the Pearson Correlation between item4 and item3 is: -0.62\n",
      "the Pearson Correlation between item4 and item4 is: 1.0\n",
      "the Pearson Correlation between item4 and item5 is: 0.46\n",
      "the Pearson Correlation between item4 and item6 is: -0.24\n",
      "correlation box for row 4 is: [0.0, -0.03, -0.62, 1.0, 0.46, -0.24]\n",
      "the Pearson Correlation between item5 and item1 is: -0.06\n",
      "the Pearson Correlation between item5 and item2 is: -0.03\n",
      "the Pearson Correlation between item5 and item3 is: -0.28\n",
      "the Pearson Correlation between item5 and item4 is: 0.46\n",
      "the Pearson Correlation between item5 and item5 is: 1.0\n",
      "the Pearson Correlation between item5 and item6 is: -0.21\n",
      "correlation box for row 5 is: [-0.06, -0.03, -0.28, 0.46, 1.0, -0.21]\n",
      "the Pearson Correlation between item6 and item1 is: 0.0\n",
      "the Pearson Correlation between item6 and item2 is: 0.26\n",
      "the Pearson Correlation between item6 and item3 is: 0.51\n",
      "the Pearson Correlation between item6 and item4 is: -0.24\n",
      "the Pearson Correlation between item6 and item5 is: -0.21\n",
      "the Pearson Correlation between item6 and item6 is: 1.0\n",
      "correlation box for row 6 is: [0.0, 0.26, 0.51, -0.24, -0.21, 1.0]\n",
      "[[ 1.    0.42 -0.43  0.   -0.06  0.  ]\n",
      " [ 0.42  1.    0.31 -0.03 -0.03  0.26]\n",
      " [-0.43  0.31  1.   -0.62 -0.28  0.51]\n",
      " [ 0.   -0.03 -0.62  1.    0.46 -0.24]\n",
      " [-0.06 -0.03 -0.28  0.46  1.   -0.21]\n",
      " [ 0.    0.26  0.51 -0.24 -0.21  1.  ]]\n"
     ]
    }
   ],
   "source": [
    "corr_combo = np.empty(shape=[0, 6])\n",
    "for i in range(0,len(a)):\n",
    "    item_i = a[i]\n",
    "    corr_box=[]\n",
    "    for j in range(0,len(a)):\n",
    "        item_j = a[j]\n",
    "        Pearson_Sim = Pearson(item_i,item_j)\n",
    "        avg_i = Pearson_Sim.average_value(item_i)\n",
    "        avg_j = Pearson_Sim.average_value(item_j)\n",
    "        new_item_i = Pearson_Sim.transformed_array(item_i,avg_i)\n",
    "        new_item_j = Pearson_Sim.transformed_array(item_j,avg_j)\n",
    "        Similarity = Pearson_Sim.similarity(new_item_i,new_item_j)\n",
    "        corr_box.append(Similarity)\n",
    "        print(f'the Pearson Correlation between item{i+1} and item{j+1} is: {Similarity}')\n",
    "    corr_combo = np.append(corr_combo, [corr_box],axis=0)\n",
    "    print(f'correlation box for row {i+1} is:',corr_box)\n",
    "print(corr_combo)"
   ]
  },
  {
   "cell_type": "code",
   "execution_count": null,
   "metadata": {},
   "outputs": [],
   "source": []
  }
 ],
 "metadata": {
  "kernelspec": {
   "display_name": "Python 3",
   "language": "python",
   "name": "python3"
  },
  "language_info": {
   "codemirror_mode": {
    "name": "ipython",
    "version": 3
   },
   "file_extension": ".py",
   "mimetype": "text/x-python",
   "name": "python",
   "nbconvert_exporter": "python",
   "pygments_lexer": "ipython3",
   "version": "3.7.4"
  }
 },
 "nbformat": 4,
 "nbformat_minor": 2
}
